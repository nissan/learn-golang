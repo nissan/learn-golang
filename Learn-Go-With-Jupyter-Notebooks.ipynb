{
 "cells": [
  {
   "cell_type": "markdown",
   "id": "6adc453d-b938-4ed2-8659-68773f7066b3",
   "metadata": {},
   "source": [
    "# Learning Go with Jupyter notebooks"
   ]
  },
  {
   "cell_type": "markdown",
   "id": "1c6a606c-8b75-43d2-bb60-9532d171c7ce",
   "metadata": {},
   "source": [
    "This experiment will be to use Go inside Jupyter notebooks to learn programming with this language. Let's start with the \"Hello World\" example"
   ]
  },
  {
   "cell_type": "code",
   "execution_count": 3,
   "id": "9ea9f2a5-a930-4738-bedd-232a0f5faa14",
   "metadata": {},
   "outputs": [],
   "source": [
    "package main\n",
    "\n",
    "import \"fmt\"\n",
    "\n",
    "func main() {\n",
    "    fmt.Println(\"Hello world.\")\n",
    "}"
   ]
  },
  {
   "cell_type": "code",
   "execution_count": 4,
   "id": "5b07b232-aa00-4a12-a04c-67a81d12f993",
   "metadata": {},
   "outputs": [
    {
     "name": "stdout",
     "output_type": "stream",
     "text": [
      "Hello world.\n"
     ]
    }
   ],
   "source": [
    "main()"
   ]
  },
  {
   "cell_type": "code",
   "execution_count": null,
   "id": "8830bfd0-4223-4b05-a976-161b114a3719",
   "metadata": {},
   "outputs": [],
   "source": []
  }
 ],
 "metadata": {
  "kernelspec": {
   "display_name": "Go",
   "language": "go",
   "name": "gophernotes"
  },
  "language_info": {
   "codemirror_mode": "",
   "file_extension": ".go",
   "mimetype": "",
   "name": "go",
   "nbconvert_exporter": "",
   "pygments_lexer": "",
   "version": "go1.18.2"
  }
 },
 "nbformat": 4,
 "nbformat_minor": 5
}
